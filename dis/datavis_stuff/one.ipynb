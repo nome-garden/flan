{
 "cells": [
  {
   "cell_type": "code",
   "execution_count": 14,
   "id": "79d96935-3d6f-4898-9985-2e86692fb9c9",
   "metadata": {},
   "outputs": [],
   "source": [
    "import numpy as np\n",
    "import pandas as pd\n",
    "import seaborn as sns"
   ]
  },
  {
   "cell_type": "code",
   "execution_count": 8,
   "id": "1b96a75b-5b8d-4b16-a197-a34d7b4a27c9",
   "metadata": {},
   "outputs": [],
   "source": [
    "from astroquery.vizier import Vizier\n",
    "Vizier.ROW_LIMIT = -1 # Set to -1 to get all rows\n",
    "catalogs = Vizier.get_catalogs([\"DEBCat\"])"
   ]
  },
  {
   "cell_type": "code",
   "execution_count": 9,
   "id": "9da3dd02-ac38-4dfe-8be0-1f21a8afa1b7",
   "metadata": {},
   "outputs": [],
   "source": [
    "df = catalogs[0].to_pandas()"
   ]
  },
  {
   "cell_type": "code",
   "execution_count": 10,
   "id": "770081af-0f33-41bf-8183-6c7c58b05deb",
   "metadata": {
    "scrolled": true
   },
   "outputs": [
    {
     "data": {
      "text/html": [
       "<div>\n",
       "<style scoped>\n",
       "    .dataframe tbody tr th:only-of-type {\n",
       "        vertical-align: middle;\n",
       "    }\n",
       "\n",
       "    .dataframe tbody tr th {\n",
       "        vertical-align: top;\n",
       "    }\n",
       "\n",
       "    .dataframe thead th {\n",
       "        text-align: right;\n",
       "    }\n",
       "</style>\n",
       "<table border=\"1\" class=\"dataframe\">\n",
       "  <thead>\n",
       "    <tr style=\"text-align: right;\">\n",
       "      <th></th>\n",
       "      <th>Name</th>\n",
       "      <th>SpT1</th>\n",
       "      <th>SpT2</th>\n",
       "      <th>logM1</th>\n",
       "      <th>logM2</th>\n",
       "    </tr>\n",
       "  </thead>\n",
       "  <tbody>\n",
       "    <tr>\n",
       "      <th>0</th>\n",
       "      <td>V3903 Sgr</td>\n",
       "      <td>O7 V</td>\n",
       "      <td>O9 V</td>\n",
       "      <td>1.4357</td>\n",
       "      <td>1.2790</td>\n",
       "    </tr>\n",
       "    <tr>\n",
       "      <th>1</th>\n",
       "      <td>V467 Vel</td>\n",
       "      <td>O6 Vf</td>\n",
       "      <td>B1 V</td>\n",
       "      <td>1.4031</td>\n",
       "      <td>0.9165</td>\n",
       "    </tr>\n",
       "    <tr>\n",
       "      <th>2</th>\n",
       "      <td>EM Car</td>\n",
       "      <td>O8 V</td>\n",
       "      <td>O8 V</td>\n",
       "      <td>1.3596</td>\n",
       "      <td>1.3310</td>\n",
       "    </tr>\n",
       "    <tr>\n",
       "      <th>3</th>\n",
       "      <td>DN Cas</td>\n",
       "      <td>O8 V</td>\n",
       "      <td>B0.2 V</td>\n",
       "      <td>1.2797</td>\n",
       "      <td>1.1377</td>\n",
       "    </tr>\n",
       "    <tr>\n",
       "      <th>4</th>\n",
       "      <td>Y Cyg</td>\n",
       "      <td>O9.8 V</td>\n",
       "      <td>O9.8 V</td>\n",
       "      <td>1.2485</td>\n",
       "      <td>1.2487</td>\n",
       "    </tr>\n",
       "    <tr>\n",
       "      <th>...</th>\n",
       "      <td>...</td>\n",
       "      <td>...</td>\n",
       "      <td>...</td>\n",
       "      <td>...</td>\n",
       "      <td>...</td>\n",
       "    </tr>\n",
       "    <tr>\n",
       "      <th>190</th>\n",
       "      <td>PTFEB 132.707+19.810</td>\n",
       "      <td>M3.5 V</td>\n",
       "      <td>M4.3 V</td>\n",
       "      <td>-0.4031</td>\n",
       "      <td>-0.6782</td>\n",
       "    </tr>\n",
       "    <tr>\n",
       "      <th>191</th>\n",
       "      <td>LSPM J1112+7626</td>\n",
       "      <td>M4 V</td>\n",
       "      <td></td>\n",
       "      <td>-0.4038</td>\n",
       "      <td>-0.5615</td>\n",
       "    </tr>\n",
       "    <tr>\n",
       "      <th>192</th>\n",
       "      <td>UScoCTIO 5</td>\n",
       "      <td>M4.5 V</td>\n",
       "      <td>M4.5 V</td>\n",
       "      <td>-0.4768</td>\n",
       "      <td>-0.4949</td>\n",
       "    </tr>\n",
       "    <tr>\n",
       "      <th>193</th>\n",
       "      <td>CM Dra</td>\n",
       "      <td>M4.5 V</td>\n",
       "      <td>M4.5 V</td>\n",
       "      <td>-0.6364</td>\n",
       "      <td>-0.6694</td>\n",
       "    </tr>\n",
       "    <tr>\n",
       "      <th>194</th>\n",
       "      <td>EPIC 203710387</td>\n",
       "      <td>M4.5V</td>\n",
       "      <td>M5V</td>\n",
       "      <td>-0.9274</td>\n",
       "      <td>-0.9682</td>\n",
       "    </tr>\n",
       "  </tbody>\n",
       "</table>\n",
       "<p>195 rows × 5 columns</p>\n",
       "</div>"
      ],
      "text/plain": [
       "                     Name    SpT1    SpT2   logM1   logM2\n",
       "0               V3903 Sgr    O7 V    O9 V  1.4357  1.2790\n",
       "1                V467 Vel   O6 Vf    B1 V  1.4031  0.9165\n",
       "2                  EM Car    O8 V    O8 V  1.3596  1.3310\n",
       "3                  DN Cas    O8 V  B0.2 V  1.2797  1.1377\n",
       "4                   Y Cyg  O9.8 V  O9.8 V  1.2485  1.2487\n",
       "..                    ...     ...     ...     ...     ...\n",
       "190  PTFEB 132.707+19.810  M3.5 V  M4.3 V -0.4031 -0.6782\n",
       "191       LSPM J1112+7626    M4 V         -0.4038 -0.5615\n",
       "192            UScoCTIO 5  M4.5 V  M4.5 V -0.4768 -0.4949\n",
       "193                CM Dra  M4.5 V  M4.5 V -0.6364 -0.6694\n",
       "194        EPIC 203710387   M4.5V     M5V -0.9274 -0.9682\n",
       "\n",
       "[195 rows x 5 columns]"
      ]
     },
     "execution_count": 10,
     "metadata": {},
     "output_type": "execute_result"
    }
   ],
   "source": [
    "new=df[['Name','SpT1','SpT2','logM1', 'logM2']]\n",
    "new"
   ]
  },
  {
   "cell_type": "code",
   "execution_count": 17,
   "id": "202966b0-fb9f-4191-a77c-0acd76ac94b6",
   "metadata": {},
   "outputs": [
    {
     "data": {
      "text/plain": [
       "0.19578409"
      ]
     },
     "execution_count": 17,
     "metadata": {},
     "output_type": "execute_result"
    }
   ],
   "source": [
    "np.mean(new['logM2'])"
   ]
  },
  {
   "cell_type": "code",
   "execution_count": 15,
   "id": "16fd7c20-c0cb-4f45-9ca9-9636f6af1272",
   "metadata": {},
   "outputs": [
    {
     "data": {
      "text/plain": [
       "<Axes: xlabel='logM1', ylabel='logM2'>"
      ]
     },
     "execution_count": 15,
     "metadata": {},
     "output_type": "execute_result"
    },
    {
     "data": {
      "image/png": "[encoded data removed]",
      "text/plain": [
       "<Figure size 640x480 with 1 Axes>"
      ]
     },
     "metadata": {},
     "output_type": "display_data"
    }
   ],
   "source": [
    "sns.scatterplot(data=new, x='logM1', y='logM2')"
   ]
  },
  {
   "cell_type": "code",
   "execution_count": 11,
   "id": "3a227a54-7e93-4831-b1b4-8bb0d3224346",
   "metadata": {},
   "outputs": [
    {
     "data": {
      "text/html": [
       "<div>\n",
       "<style scoped>\n",
       "    .dataframe tbody tr th:only-of-type {\n",
       "        vertical-align: middle;\n",
       "    }\n",
       "\n",
       "    .dataframe tbody tr th {\n",
       "        vertical-align: top;\n",
       "    }\n",
       "\n",
       "    .dataframe thead th {\n",
       "        text-align: right;\n",
       "    }\n",
       "</style>\n",
       "<table border=\"1\" class=\"dataframe\">\n",
       "  <thead>\n",
       "    <tr style=\"text-align: right;\">\n",
       "      <th></th>\n",
       "      <th>logM1</th>\n",
       "    </tr>\n",
       "  </thead>\n",
       "  <tbody>\n",
       "    <tr>\n",
       "      <th>0</th>\n",
       "      <td>4.048934e+09</td>\n",
       "    </tr>\n",
       "    <tr>\n",
       "      <th>1</th>\n",
       "      <td>4.288233e+09</td>\n",
       "    </tr>\n",
       "    <tr>\n",
       "      <th>2</th>\n",
       "      <td>4.639510e+09</td>\n",
       "    </tr>\n",
       "    <tr>\n",
       "      <th>3</th>\n",
       "      <td>5.397959e+09</td>\n",
       "    </tr>\n",
       "    <tr>\n",
       "      <th>4</th>\n",
       "      <td>5.741543e+09</td>\n",
       "    </tr>\n",
       "    <tr>\n",
       "      <th>...</th>\n",
       "      <td>...</td>\n",
       "    </tr>\n",
       "    <tr>\n",
       "      <th>190</th>\n",
       "      <td>NaN</td>\n",
       "    </tr>\n",
       "    <tr>\n",
       "      <th>191</th>\n",
       "      <td>NaN</td>\n",
       "    </tr>\n",
       "    <tr>\n",
       "      <th>192</th>\n",
       "      <td>NaN</td>\n",
       "    </tr>\n",
       "    <tr>\n",
       "      <th>193</th>\n",
       "      <td>NaN</td>\n",
       "    </tr>\n",
       "    <tr>\n",
       "      <th>194</th>\n",
       "      <td>NaN</td>\n",
       "    </tr>\n",
       "  </tbody>\n",
       "</table>\n",
       "<p>195 rows × 1 columns</p>\n",
       "</div>"
      ],
      "text/plain": [
       "            logM1\n",
       "0    4.048934e+09\n",
       "1    4.288233e+09\n",
       "2    4.639510e+09\n",
       "3    5.397959e+09\n",
       "4    5.741543e+09\n",
       "..            ...\n",
       "190           NaN\n",
       "191           NaN\n",
       "192           NaN\n",
       "193           NaN\n",
       "194           NaN\n",
       "\n",
       "[195 rows x 1 columns]"
      ]
     },
     "execution_count": 11,
     "metadata": {},
     "output_type": "execute_result"
    }
   ],
   "source": [
    "x = (10**10)/(df[['logM1']]**2.5)\n",
    "x"
   ]
  },
  {
   "cell_type": "code",
   "execution_count": null,
   "id": "56e17129-3831-4885-81a0-352214ad2220",
   "metadata": {},
   "outputs": [],
   "source": []
  }
 ],
 "metadata": {
  "kernelspec": {
   "display_name": "Python 3 (ipykernel)",
   "language": "python",
   "name": "python3"
  },
  "language_info": {
   "codemirror_mode": {
    "name": "ipython",
    "version": 3
   },
   "file_extension": ".py",
   "mimetype": "text/x-python",
   "name": "python",
   "nbconvert_exporter": "python",
   "pygments_lexer": "ipython3",
   "version": "3.12.3"
  }
 },
 "nbformat": 4,
 "nbformat_minor": 5
}
