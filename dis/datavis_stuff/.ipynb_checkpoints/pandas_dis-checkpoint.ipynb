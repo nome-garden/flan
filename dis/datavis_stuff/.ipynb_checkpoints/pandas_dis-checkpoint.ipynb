{
 "cells": [
  {
   "cell_type": "code",
   "execution_count": 1,
   "id": "56aa6b5e",
   "metadata": {},
   "outputs": [],
   "source": [
    "import pandas as pd"
   ]
  },
  {
   "cell_type": "code",
   "execution_count": 2,
   "id": "d5a806be",
   "metadata": {},
   "outputs": [
    {
     "data": {
      "text/html": [
       "<div>\n",
       "<style scoped>\n",
       "    .dataframe tbody tr th:only-of-type {\n",
       "        vertical-align: middle;\n",
       "    }\n",
       "\n",
       "    .dataframe tbody tr th {\n",
       "        vertical-align: top;\n",
       "    }\n",
       "\n",
       "    .dataframe thead th {\n",
       "        text-align: right;\n",
       "    }\n",
       "</style>\n",
       "<table border=\"1\" class=\"dataframe\">\n",
       "  <thead>\n",
       "    <tr style=\"text-align: right;\">\n",
       "      <th></th>\n",
       "      <th>food</th>\n",
       "      <th>restaurant</th>\n",
       "      <th>price</th>\n",
       "    </tr>\n",
       "  </thead>\n",
       "  <tbody>\n",
       "    <tr>\n",
       "      <th>0</th>\n",
       "      <td>Pad Thai</td>\n",
       "      <td>Imm Thai</td>\n",
       "      <td>16.0</td>\n",
       "    </tr>\n",
       "    <tr>\n",
       "      <th>1</th>\n",
       "      <td>Pizza</td>\n",
       "      <td>Blondies</td>\n",
       "      <td>20.5</td>\n",
       "    </tr>\n",
       "    <tr>\n",
       "      <th>2</th>\n",
       "      <td>Burger</td>\n",
       "      <td>Super Duper</td>\n",
       "      <td>13.0</td>\n",
       "    </tr>\n",
       "    <tr>\n",
       "      <th>3</th>\n",
       "      <td>Boba</td>\n",
       "      <td>Feng Cha</td>\n",
       "      <td>8.0</td>\n",
       "    </tr>\n",
       "  </tbody>\n",
       "</table>\n",
       "</div>"
      ],
      "text/plain": [
       "       food   restaurant  price\n",
       "0  Pad Thai     Imm Thai   16.0\n",
       "1     Pizza     Blondies   20.5\n",
       "2    Burger  Super Duper   13.0\n",
       "3      Boba     Feng Cha    8.0"
      ]
     },
     "execution_count": 2,
     "metadata": {},
     "output_type": "execute_result"
    }
   ],
   "source": [
    "food_info = pd.DataFrame(\n",
    "    data = {'food': ['Pad Thai','Pizza','Burger','Boba'],\n",
    "           'restaurant':['Imm Thai','Blondies','Super Duper','Feng Cha'],\n",
    "           'price':[16.00,20.50,13.00,8.00]}\n",
    ")\n",
    "food_info"
   ]
  },
  {
   "cell_type": "code",
   "execution_count": null,
   "id": "7e115958",
   "metadata": {},
   "outputs": [],
   "source": [
    "#loc practice\n",
    "\n",
    "#(1) get rows 1 and 3 and column 'food'\n",
    "#(2) get rows 1 and 2 and column 'food' and 'restaurant'\n",
    "#(3) get rows 0 thru 2 (inclusive) and columns 'food' thru 'price'\n",
    "#(4) get rows 2 thru 3 (inclusive) and columns 'restaurant' and 'price'"
   ]
  },
  {
   "cell_type": "code",
   "execution_count": null,
   "id": "3514261f",
   "metadata": {},
   "outputs": [],
   "source": [
    "#im a survivor\n",
    "titanic['Survived'].value_counts()[1]/sum(titanic['Survived'].value_counts(1))"
   ]
  },
  {
   "cell_type": "code",
   "execution_count": null,
   "id": "115d1abc",
   "metadata": {},
   "outputs": [],
   "source": [
    "titanic['Survived'].value_counts()[1]"
   ]
  },
  {
   "cell_type": "code",
   "execution_count": null,
   "id": "1d5d7802",
   "metadata": {},
   "outputs": [],
   "source": [
    "titanic.sort_values(by=['Name'],ascending=False)"
   ]
  }
 ],
 "metadata": {
  "kernelspec": {
   "display_name": "Python 3 (ipykernel)",
   "language": "python",
   "name": "python3"
  },
  "language_info": {
   "codemirror_mode": {
    "name": "ipython",
    "version": 3
   },
   "file_extension": ".py",
   "mimetype": "text/x-python",
   "name": "python",
   "nbconvert_exporter": "python",
   "pygments_lexer": "ipython3",
   "version": "3.11.5"
  }
 },
 "nbformat": 4,
 "nbformat_minor": 5
}
