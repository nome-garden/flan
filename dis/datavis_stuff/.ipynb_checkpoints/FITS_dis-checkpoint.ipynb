{
 "cells": [
  {
   "cell_type": "code",
   "execution_count": 8,
   "id": "4e72b1a4",
   "metadata": {},
   "outputs": [],
   "source": [
    "from astropy.io import fits"
   ]
  },
  {
   "cell_type": "code",
   "execution_count": 13,
   "id": "a2722206",
   "metadata": {},
   "outputs": [
    {
     "name": "stdout",
     "output_type": "stream",
     "text": [
      "Filename: fits_file_disc.fits\n",
      "No.    Name      Ver    Type      Cards   Dimensions   Format\n",
      "  0  PRIMARY       1 PrimaryHDU       4   ()      \n",
      "  1                1 BinTableHDU     12   31023R x 2C   [E, E]   \n"
     ]
    }
   ],
   "source": [
    "fit = fits.open('fits_file_disc.fits')\n",
    "fit.info()\n",
    "fit.close() #saves memory"
   ]
  },
  {
   "cell_type": "code",
   "execution_count": 25,
   "id": "0d8e9403",
   "metadata": {},
   "outputs": [
    {
     "name": "stdout",
     "output_type": "stream",
     "text": [
      "Filename: fits_file_disc.fits\n",
      "No.    Name      Ver    Type      Cards   Dimensions   Format\n",
      "  0  PRIMARY       1 PrimaryHDU       4   ()      \n",
      "  1                1 BinTableHDU     12   31023R x 2C   [E, E]   \n"
     ]
    }
   ],
   "source": [
    "with fits.open('fits_file_disc.fits') as fit: #in this format, you don't need to formally close it; closes at the end\n",
    "    fit.info()\n",
    "    data=fit[1].data #you need to do this while fit is not closed \n",
    "    hdr=fit[1].header #tells us more about the file and what it contains"
   ]
  },
  {
   "cell_type": "code",
   "execution_count": 17,
   "id": "934d5b8b",
   "metadata": {},
   "outputs": [],
   "source": [
    "#primary HDU makes it so you dont break things, it's a formatting thing, there's nothing in it\n",
    "#focus on BinTableHDU and how to get at it\n",
    "#HDU are just objects these fits files are made of"
   ]
  },
  {
   "cell_type": "code",
   "execution_count": 18,
   "id": "da9da91b",
   "metadata": {},
   "outputs": [
    {
     "data": {
      "text/plain": [
       "FITS_rec([(  500.    , 4.3531495e-10), (  500.0834, 4.3527074e-10),\n",
       "          (  500.1668, 4.3521931e-10), ..., (59995.562 , 5.2378674e-10),\n",
       "          (60005.562 , 5.2362126e-10), (60015.574 , 5.2347715e-10)],\n",
       "         dtype=(numpy.record, [('Wavelength (Angstroms)', '>f4'), ('Flux', '>f4')]))"
      ]
     },
     "execution_count": 18,
     "metadata": {},
     "output_type": "execute_result"
    }
   ],
   "source": [
    "data"
   ]
  },
  {
   "cell_type": "code",
   "execution_count": 26,
   "id": "555be4b8",
   "metadata": {},
   "outputs": [
    {
     "data": {
      "text/plain": [
       "XTENSION= 'BINTABLE'           / binary table extension                         \n",
       "BITPIX  =                    8 / array data type                                \n",
       "NAXIS   =                    2 / number of array dimensions                     \n",
       "NAXIS1  =                    8 / length of dimension 1                          \n",
       "NAXIS2  =                31023 / length of dimension 2                          \n",
       "PCOUNT  =                    0 / number of group parameters                     \n",
       "GCOUNT  =                    1 / number of groups                               \n",
       "TFIELDS =                    2 / number of table fields                         \n",
       "TTYPE1  = 'Wavelength (Angstroms)'                                              \n",
       "TFORM1  = 'E       '                                                            \n",
       "TTYPE2  = 'Flux    '                                                            \n",
       "TFORM2  = 'E       '                                                            "
      ]
     },
     "execution_count": 26,
     "metadata": {},
     "output_type": "execute_result"
    }
   ],
   "source": [
    "hdr"
   ]
  },
  {
   "cell_type": "code",
   "execution_count": 28,
   "id": "571ad176",
   "metadata": {},
   "outputs": [
    {
     "data": {
      "text/plain": [
       "name = 'Flux'; format = 'E'"
      ]
     },
     "execution_count": 28,
     "metadata": {},
     "output_type": "execute_result"
    }
   ],
   "source": [
    "data.columns['Flux']"
   ]
  },
  {
   "cell_type": "code",
   "execution_count": 33,
   "id": "16fc5da8",
   "metadata": {},
   "outputs": [
    {
     "data": {
      "text/plain": [
       "array([  500.    ,   500.0834,   500.1668, ..., 59995.562 , 60005.562 ,\n",
       "       60015.574 ], dtype=float32)"
      ]
     },
     "execution_count": 33,
     "metadata": {},
     "output_type": "execute_result"
    }
   ],
   "source": [
    "data.field(0)"
   ]
  },
  {
   "cell_type": "code",
   "execution_count": 32,
   "id": "88565b8c",
   "metadata": {},
   "outputs": [
    {
     "name": "stdout",
     "output_type": "stream",
     "text": [
      "XTENSION= 'BINTABLE'           / binary table extension                         BITPIX  =                    8 / array data type                                NAXIS   =                    2 / number of array dimensions                     NAXIS1  =                    8 / length of dimension 1                          NAXIS2  =                31023 / length of dimension 2                          PCOUNT  =                    0 / number of group parameters                     GCOUNT  =                    1 / number of groups                               TFIELDS =                    2 / number of table fields                         TTYPE1  = 'Wavelength (Angstroms)'                                              TFORM1  = 'E       '                                                            TTYPE2  = 'Flux    '                                                            TFORM2  = 'E       '                                                            END                                                                                                                                                                                                                                                                                                                                                                                                                                                                                                                                                                                                                                                                                                                                                                                                                                                                                                                                                                                                                                                                                                                                                                                                                                                                                                                                                                                                                                                                                                                                                                                                                                                                                                                                                                                                                                                                                                                                                                                             \n"
     ]
    }
   ],
   "source": [
    "print(hdr)"
   ]
  },
  {
   "cell_type": "code",
   "execution_count": 34,
   "id": "b9fb9322",
   "metadata": {},
   "outputs": [
    {
     "data": {
      "text/plain": [
       "array([  500.    ,   500.0834,   500.1668, ..., 59995.562 , 60005.562 ,\n",
       "       60015.574 ], dtype=float32)"
      ]
     },
     "execution_count": 34,
     "metadata": {},
     "output_type": "execute_result"
    }
   ],
   "source": [
    "data.field('Wavelength (Angstroms)') #this is the x-axis"
   ]
  },
  {
   "cell_type": "code",
   "execution_count": null,
   "id": "155bfdd0",
   "metadata": {},
   "outputs": [],
   "source": []
  }
 ],
 "metadata": {
  "kernelspec": {
   "display_name": "Python 3 (ipykernel)",
   "language": "python",
   "name": "python3"
  },
  "language_info": {
   "codemirror_mode": {
    "name": "ipython",
    "version": 3
   },
   "file_extension": ".py",
   "mimetype": "text/x-python",
   "name": "python",
   "nbconvert_exporter": "python",
   "pygments_lexer": "ipython3",
   "version": "3.11.5"
  }
 },
 "nbformat": 4,
 "nbformat_minor": 5
}
