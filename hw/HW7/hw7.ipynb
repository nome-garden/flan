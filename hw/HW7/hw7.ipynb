{
 "cells": [
  {
   "cell_type": "code",
   "execution_count": 1,
   "id": "128f6ba5-d142-4570-9d28-41e9ca4a024c",
   "metadata": {},
   "outputs": [],
   "source": [
    "#1 Tweet Analysis"
   ]
  },
  {
   "cell_type": "code",
   "execution_count": 4,
   "id": "365eea81-674a-494e-aa1c-f5881fe4c417",
   "metadata": {},
   "outputs": [],
   "source": [
    "import pandas as pd\n",
    "import seaborn as sns"
   ]
  },
  {
   "cell_type": "code",
   "execution_count": 5,
   "id": "7eb84920-85ca-4530-bb99-c31ad6fcb086",
   "metadata": {},
   "outputs": [
    {
     "data": {
      "text/html": [
       "<div>\n",
       "<style scoped>\n",
       "    .dataframe tbody tr th:only-of-type {\n",
       "        vertical-align: middle;\n",
       "    }\n",
       "\n",
       "    .dataframe tbody tr th {\n",
       "        vertical-align: top;\n",
       "    }\n",
       "\n",
       "    .dataframe thead th {\n",
       "        text-align: right;\n",
       "    }\n",
       "</style>\n",
       "<table border=\"1\" class=\"dataframe\">\n",
       "  <thead>\n",
       "    <tr style=\"text-align: right;\">\n",
       "      <th></th>\n",
       "      <th>[{\"created_at\": \"Sat Feb 06 20:22:38 +0000 2021\"</th>\n",
       "      <th>\"id\": 1358149122264563712</th>\n",
       "      <th>\"id_str\": \"1358149122264563712\"</th>\n",
       "      <th>\"full_text\": \"RT @RepEscobar: Our country has the moral obligation and responsibility to reunite every single family separated at the southern border.\\n\\nT\\u2026\"</th>\n",
       "      <th>\"truncated\": false</th>\n",
       "      <th>\"display_text_range\": [0</th>\n",
       "      <th>140]</th>\n",
       "      <th>\"entities\": {\"hashtags\": []</th>\n",
       "      <th>\"symbols\": []</th>\n",
       "      <th>\"user_mentions\": [{\"screen_name\": \"RepEscobar\"</th>\n",
       "      <th>...</th>\n",
       "      <th>\"quoted_status_id\": 1181695574803931136.1</th>\n",
       "      <th>\"quoted_status_id_str\": \"1181695574803931136\".1</th>\n",
       "      <th>\"quoted_status_permalink\": {\"url\": \"https://t.co/S9q3D4wGcb\".1</th>\n",
       "      <th>\"expanded\": \"https://twitter.com/AOC/status/1181695574803931136\".1</th>\n",
       "      <th>\"display\": \"twitter.com/AOC/status/118\\u2026\"}.2</th>\n",
       "      <th>\"retweet_count\": 428.3</th>\n",
       "      <th>\"favorite_count\": 0.1230</th>\n",
       "      <th>\"favorited\": false.5472</th>\n",
       "      <th>\"retweeted\": false.5472</th>\n",
       "      <th>\"lang\": \"en\"}]</th>\n",
       "    </tr>\n",
       "  </thead>\n",
       "  <tbody>\n",
       "  </tbody>\n",
       "</table>\n",
       "<p>0 rows × 541975 columns</p>\n",
       "</div>"
      ],
      "text/plain": [
       "Empty DataFrame\n",
       "Columns: [[{\"created_at\": \"Sat Feb 06 20:22:38 +0000 2021\",  \"id\": 1358149122264563712,  \"id_str\": \"1358149122264563712\",  \"full_text\": \"RT @RepEscobar: Our country has the moral obligation and responsibility to reunite every single family separated at the southern border.\\n\\nT\\u2026\",  \"truncated\": false,  \"display_text_range\": [0,  140],  \"entities\": {\"hashtags\": [],  \"symbols\": [],  \"user_mentions\": [{\"screen_name\": \"RepEscobar\",  \"name\": \"Rep. Veronica Escobar\",  \"id\": 1075517806551154689,  \"id_str\": \"1075517806551154689\",  \"indices\": [3,  14]}],  \"urls\": []},  \"source\": \"<a href=\\\"http://twitter.com/download/iphone\\\" rel=\\\"nofollow\\\">Twitter for iPhone</a>\",  \"in_reply_to_status_id\": null,  \"in_reply_to_status_id_str\": null,  \"in_reply_to_user_id\": null,  \"in_reply_to_user_id_str\": null,  \"in_reply_to_screen_name\": null,  \"user\": {\"id\": 138203134,  \"id_str\": \"138203134\",  \"name\": \"Alexandria Ocasio-Cortez\",  \"screen_name\": \"AOC\",  \"location\": \"Bronx + Queens,  NYC\",  \"description\": \"US Representative, NY-14 (BX & Queens). In a modern,  moral,  & wealthy society,  no American should be too poor to live. \\ud83d\\udcaf% People-Funded,  no lobbyist\\ud83d\\udcb0. She/her.\",  \"url\": \"https://t.co/1gpC8bdz39\",  \"entities\": {\"url\": {\"urls\": [{\"url\": \"https://t.co/1gpC8bdz39\",  \"expanded_url\": \"http://www.ocasiocortez.com\",  \"display_url\": \"ocasiocortez.com\",  \"indices\": [0,  23]}]},  \"description\": {\"urls\": []}},  \"protected\": false,  \"followers_count\": 12333342,  \"friends_count\": 3123,  \"listed_count\": 23206,  \"created_at\": \"Wed Apr 28 22:38:40 +0000 2010\",  \"favourites_count\": 30157,  \"utc_offset\": null,  \"time_zone\": null,  \"geo_enabled\": false,  \"verified\": true,  \"statuses_count\": 12220,  \"lang\": null,  \"contributors_enabled\": false,  \"is_translator\": false,  \"is_translation_enabled\": false,  \"profile_background_color\": \"000000\",  \"profile_background_image_url\": \"http://abs.twimg.com/images/themes/theme1/bg.png\",  \"profile_background_image_url_https\": \"https://abs.twimg.com/images/themes/theme1/bg.png\",  \"profile_background_tile\": false,  \"profile_image_url\": \"http://pbs.twimg.com/profile_images/923274881197895680/AbHcStkl_normal.jpg\",  \"profile_image_url_https\": \"https://pbs.twimg.com/profile_images/923274881197895680/AbHcStkl_normal.jpg\",  \"profile_banner_url\": \"https://pbs.twimg.com/profile_banners/138203134/1511815660\",  \"profile_link_color\": \"1B95E0\",  \"profile_sidebar_border_color\": \"000000\",  \"profile_sidebar_fill_color\": \"000000\",  \"profile_text_color\": \"000000\",  \"profile_use_background_image\": false,  \"has_extended_profile\": true,  \"default_profile\": false,  \"default_profile_image\": false,  \"following\": true,  \"follow_request_sent\": false,  \"notifications\": false,  \"translator_type\": \"none\"},  \"geo\": null,  \"coordinates\": null,  \"place\": null,  \"contributors\": null,  \"retweeted_status\": {\"created_at\": \"Sat Feb 06 19:04:31 +0000 2021\",  \"id\": 1358129463108788226,  \"id_str\": \"1358129463108788226\",  \"full_text\": \"Our country has the moral obligation and responsibility to reunite every single family separated at the southern border.\\n\\nThe amount of trauma that was created at the hands of the American government is something we can\\u2019t look away from. Congress and @POTUS won't look away. https://t.co/8N2KMew10p\",  \"truncated\": false.1,  \"display_text_range\": [0.1,  274],  \"entities\": {\"hashtags\": [].1,  \"symbols\": [].1,  \"user_mentions\": [{\"screen_name\": \"POTUS\",  \"name\": \"President Biden\",  \"id\": 1349149096909668363,  \"id_str\": \"1349149096909668363\",  \"indices\": [251,  257]}],  \"urls\": [],  \"media\": [{\"id\": 1358097050429239300,  \"id_str\": \"1358097050429239300\",  \"indices\": [275,  298],  \"media_url\": \"http://pbs.twimg.com/media/EtkJYDqXcAANkdP.jpg\", ...]\n",
       "Index: []\n",
       "\n",
       "[0 rows x 541975 columns]"
      ]
     },
     "execution_count": 5,
     "metadata": {},
     "output_type": "execute_result"
    }
   ],
   "source": [
    "# def readFile(file):\n",
    "#      f=open(file,\"r\")\n",
    "#      text=f.read()\n",
    "#      f.close()\n",
    "#      return text\n",
    "\n",
    "# x = readFile('AOC_recent_tweets.txt')\n",
    "# x\n",
    "x=pd.read_csv('AOC_recent_tweets.txt')\n",
    "x\n",
    "\n",
    "# chunksize = 10 ** 8\n",
    "# for chunk in pd.read_csv('AOC_recent_tweets.txt', chunksize=chunksize):\n",
    "#     process(chunk)"
   ]
  }
 ],
 "metadata": {
  "kernelspec": {
   "display_name": "Python 3 (ipykernel)",
   "language": "python",
   "name": "python3"
  },
  "language_info": {
   "codemirror_mode": {
    "name": "ipython",
    "version": 3
   },
   "file_extension": ".py",
   "mimetype": "text/x-python",
   "name": "python",
   "nbconvert_exporter": "python",
   "pygments_lexer": "ipython3",
   "version": "3.11.5"
  }
 },
 "nbformat": 4,
 "nbformat_minor": 5
}
