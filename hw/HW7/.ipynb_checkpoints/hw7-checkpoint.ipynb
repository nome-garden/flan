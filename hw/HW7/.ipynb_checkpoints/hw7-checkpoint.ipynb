{
 "cells": [
  {
   "cell_type": "code",
   "execution_count": null,
   "id": "128f6ba5-d142-4570-9d28-41e9ca4a024c",
   "metadata": {},
   "outputs": [],
   "source": [
    "#1 Tweet Analysis"
   ]
  },
  {
   "cell_type": "code",
   "execution_count": 1,
   "id": "365eea81-674a-494e-aa1c-f5881fe4c417",
   "metadata": {},
   "outputs": [],
   "source": [
    "import pandas as pd\n",
    "import seaborn as sns"
   ]
  },
  {
   "cell_type": "code",
   "execution_count": null,
   "id": "7eb84920-85ca-4530-bb99-c31ad6fcb086",
   "metadata": {},
   "outputs": [],
   "source": [
    "x=pd.read_csv(AOC_recent_tweets.txt)\n",
    "x"
   ]
  },
  {
   "cell_type": "code",
   "execution_count": null,
   "id": "f43e5764-233e-4f21-9c85-3ac4d4859860",
   "metadata": {},
   "outputs": [],
   "source": []
  }
 ],
 "metadata": {
  "kernelspec": {
   "display_name": "Python 3 (ipykernel)",
   "language": "python",
   "name": "python3"
  },
  "language_info": {
   "codemirror_mode": {
    "name": "ipython",
    "version": 3
   },
   "file_extension": ".py",
   "mimetype": "text/x-python",
   "name": "python",
   "nbconvert_exporter": "python",
   "pygments_lexer": "ipython3",
   "version": "3.12.3"
  }
 },
 "nbformat": 4,
 "nbformat_minor": 5
}
